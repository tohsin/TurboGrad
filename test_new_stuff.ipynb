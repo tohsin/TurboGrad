{
 "cells": [
  {
   "cell_type": "code",
   "execution_count": 30,
   "metadata": {},
   "outputs": [],
   "source": [
    "from turbograd.nn_ import Neuron\n",
    "\n",
    "neuron = Neuron(3, '')\n",
    "x = [ 1, 2, 3]\n"
   ]
  },
  {
   "cell_type": "code",
   "execution_count": 46,
   "metadata": {},
   "outputs": [
    {
     "name": "stdout",
     "output_type": "stream",
     "text": [
      "Value(data=5.634772810336166)\n",
      "Value(data=0.13339090006974214)\n"
     ]
    }
   ],
   "source": [
    "add = neuron(x)\n",
    "print(add)\n",
    "\n",
    "mse = ((add - 6) ** 2)\n",
    "print(mse)"
   ]
  },
  {
   "cell_type": "code",
   "execution_count": 47,
   "metadata": {},
   "outputs": [
    {
     "name": "stdout",
     "output_type": "stream",
     "text": [
      "Value(data=0.13339090006974214)\n",
      "Value(data=0.38263037038516406)\n",
      "Value(data=0.7570036427892458)\n",
      "Value(data=1.2520216073725898)\n",
      "Value(data=1.8617485037218753)\n",
      "Value(data=2.5788730966229827)\n",
      "Value(data=3.394796345082433)\n",
      "Value(data=4.2997345134279445)\n",
      "Value(data=5.282836488082891)\n",
      "Value(data=6.332313893269182)\n",
      "Value(data=7.435582445421234)\n",
      "Value(data=8.579412851330183)\n",
      "Value(data=9.750089440598785)\n",
      "Value(data=10.93357463024511)\n",
      "Value(data=12.115677249360113)\n",
      "Value(data=13.282222705437992)\n",
      "Value(data=14.419222951914913)\n",
      "Value(data=15.513044218835365)\n",
      "Value(data=16.550570495387714)\n",
      "Value(data=17.51936080398981)\n",
      "Value(data=18.407798380051215)\n",
      "Value(data=19.205229968597376)\n",
      "Value(data=19.902093567450034)\n",
      "Value(data=20.490033085195346)\n",
      "Value(data=20.96199853907603)\n",
      "Value(data=21.3123305913346)\n",
      "Value(data=21.536828410332426)\n",
      "Value(data=21.6328000427219)\n",
      "Value(data=21.59909469265905)\n",
      "Value(data=21.436116520996467)\n"
     ]
    }
   ],
   "source": [
    "for _ in range(30):\n",
    "    add = neuron(x)\n",
    "\n",
    "    mse = ((add - 6) ** 2)\n",
    "    print(mse)\n",
    "    neuron.zero_grad()\n",
    "    mse.backward()\n",
    "    neuron.step(0.0001)\n"
   ]
  },
  {
   "cell_type": "code",
   "execution_count": 7,
   "metadata": {},
   "outputs": [],
   "source": []
  },
  {
   "cell_type": "code",
   "execution_count": 8,
   "metadata": {},
   "outputs": [
    {
     "name": "stdout",
     "output_type": "stream",
     "text": [
      "Value(data=3.7336946540804217)\n"
     ]
    }
   ],
   "source": [
    "mse = (add - 1) ** 2\n",
    "print(mse)"
   ]
  },
  {
   "cell_type": "code",
   "execution_count": null,
   "metadata": {},
   "outputs": [],
   "source": []
  }
 ],
 "metadata": {
  "kernelspec": {
   "display_name": "venv",
   "language": "python",
   "name": "python3"
  },
  "language_info": {
   "codemirror_mode": {
    "name": "ipython",
    "version": 3
   },
   "file_extension": ".py",
   "mimetype": "text/x-python",
   "name": "python",
   "nbconvert_exporter": "python",
   "pygments_lexer": "ipython3",
   "version": "3.9.12"
  },
  "orig_nbformat": 4,
  "vscode": {
   "interpreter": {
    "hash": "0f7eb34cf01def54aa1c1e29a6d82a4f7d72bbd8ee261a0fdeebcc0fa2c33cb2"
   }
  }
 },
 "nbformat": 4,
 "nbformat_minor": 2
}
