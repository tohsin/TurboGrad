{
 "cells": [
  {
   "cell_type": "code",
   "execution_count": 1,
   "metadata": {},
   "outputs": [
    {
     "data": {
      "text/plain": [
       "Value(data=-0.35143701868746996)"
      ]
     },
     "execution_count": 1,
     "metadata": {},
     "output_type": "execute_result"
    }
   ],
   "source": [
    "from engine_ import MLP\n",
    "\n",
    "\n",
    "x = [2.0, 3.0, -1.0]\n",
    "net = MLP(len(x), [4,4,1])\n",
    "net(x)"
   ]
  },
  {
   "cell_type": "code",
   "execution_count": 2,
   "metadata": {},
   "outputs": [
    {
     "data": {
      "text/plain": [
       "[Value(data=-0.5704714704586848),\n",
       " Value(data=0.6076171746100087),\n",
       " Value(data=0.8760286457518818),\n",
       " Value(data=-0.6426811625305139)]"
      ]
     },
     "execution_count": 2,
     "metadata": {},
     "output_type": "execute_result"
    }
   ],
   "source": [
    "        \n",
    "xs = [\n",
    "    [2.0, 3.0, -1.0],\n",
    "    [3.0, -1.0, 0.5],\n",
    "    [0.5, 1.0, 1.0],\n",
    "    [1.0, 1.0, -1.0]\n",
    "\n",
    "]\n",
    "net = MLP(len(x), [4,4,1])\n",
    "\n",
    "ys = [1.0, -1.0, -1.0, 1.0]\n",
    "ys_pred = [ net(x) for x in xs]\n",
    "ys_pred"
   ]
  },
  {
   "cell_type": "code",
   "execution_count": 5,
   "metadata": {},
   "outputs": [
    {
     "data": {
      "text/plain": [
       "[Value(data=0.7733427327357094),\n",
       " Value(data=-0.4384388115409077),\n",
       " Value(data=-0.36071811121993447),\n",
       " Value(data=-0.002387745942688424),\n",
       " Value(data=-0.5875972431686611),\n",
       " Value(data=0.26980367402170624),\n",
       " Value(data=-0.915318201400743),\n",
       " Value(data=-0.4497321306945623),\n",
       " Value(data=0.4638334361792833),\n",
       " Value(data=0.5153676259168696),\n",
       " Value(data=-0.6440730298865933),\n",
       " Value(data=-0.09421541014124468),\n",
       " Value(data=-0.2900000232306572),\n",
       " Value(data=-0.9086475557431253),\n",
       " Value(data=0.6092333075516916),\n",
       " Value(data=-0.698892395694118),\n",
       " Value(data=0.2697049070767379),\n",
       " Value(data=0.9117679987104426),\n",
       " Value(data=-0.04385320676744686),\n",
       " Value(data=-0.5864075826943604),\n",
       " Value(data=-0.8276197559960254),\n",
       " Value(data=0.058777004954209566),\n",
       " Value(data=0.966182803150603),\n",
       " Value(data=0.9502698153859563),\n",
       " Value(data=-0.004641945809240378),\n",
       " Value(data=-0.2857218127519654),\n",
       " Value(data=-0.8917242977230897),\n",
       " Value(data=-0.8135466480433458),\n",
       " Value(data=0.8542158597112153),\n",
       " Value(data=-0.24079839816683068),\n",
       " Value(data=-0.46205975020709866),\n",
       " Value(data=0.37314318072565555),\n",
       " Value(data=0.3639560873113723),\n",
       " Value(data=-0.011780187912319828),\n",
       " Value(data=0.46976039745229947),\n",
       " Value(data=0.7341795821977535),\n",
       " Value(data=-0.8004349335860053),\n",
       " Value(data=-0.6058738611118086),\n",
       " Value(data=0.34136824397675447),\n",
       " Value(data=-0.47289222125182984),\n",
       " Value(data=-0.10199900286104269)]"
      ]
     },
     "execution_count": 5,
     "metadata": {},
     "output_type": "execute_result"
    }
   ],
   "source": [
    "net.parameters()"
   ]
  },
  {
   "cell_type": "code",
   "execution_count": 3,
   "metadata": {},
   "outputs": [
    {
     "data": {
      "text/plain": [
       "Value(data=11.268698501039973)"
      ]
     },
     "execution_count": 3,
     "metadata": {},
     "output_type": "execute_result"
    }
   ],
   "source": [
    "loss = sum((yout - ygt)**2 for ygt, yout in zip(ys, ys_pred))\n",
    "loss"
   ]
  },
  {
   "cell_type": "code",
   "execution_count": 4,
   "metadata": {},
   "outputs": [],
   "source": [
    "loss.backward()"
   ]
  },
  {
   "cell_type": "code",
   "execution_count": 6,
   "metadata": {},
   "outputs": [
    {
     "data": {
      "text/plain": [
       "0.506955784819143"
      ]
     },
     "execution_count": 6,
     "metadata": {},
     "output_type": "execute_result"
    }
   ],
   "source": [
    "net.layers[0].neurons[0].w[0].grad"
   ]
  },
  {
   "cell_type": "code",
   "execution_count": null,
   "metadata": {},
   "outputs": [],
   "source": [
    "from graphics_ import draw_dot\n",
    "\n",
    "draw_dot(loss)"
   ]
  },
  {
   "cell_type": "code",
   "execution_count": null,
   "metadata": {},
   "outputs": [],
   "source": [
    "for p in net.parameters():\n",
    "    p.data += -0.01 * p.grad"
   ]
  }
 ],
 "metadata": {
  "kernelspec": {
   "display_name": "venv",
   "language": "python",
   "name": "python3"
  },
  "language_info": {
   "codemirror_mode": {
    "name": "ipython",
    "version": 3
   },
   "file_extension": ".py",
   "mimetype": "text/x-python",
   "name": "python",
   "nbconvert_exporter": "python",
   "pygments_lexer": "ipython3",
   "version": "3.9.12 (v3.9.12:b28265d7e6, Mar 23 2022, 18:17:11) \n[Clang 6.0 (clang-600.0.57)]"
  },
  "orig_nbformat": 4,
  "vscode": {
   "interpreter": {
    "hash": "0f7eb34cf01def54aa1c1e29a6d82a4f7d72bbd8ee261a0fdeebcc0fa2c33cb2"
   }
  }
 },
 "nbformat": 4,
 "nbformat_minor": 2
}
